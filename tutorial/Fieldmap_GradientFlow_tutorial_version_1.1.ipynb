{
 "cells": [
  {
   "cell_type": "markdown",
   "metadata": {},
   "source": [
    "# Tutorial for generating reliability field maps and gradient flow vectors:\n",
    "\n",
    "## Reliability Field maps:  \n",
    "Field maps show the contribution of the intra (x-axis) and inter (y-axis) variation to the ICC in a two dimensional histogram.\n",
    "\n",
    "The field maps can be created using any measurable variable, but we focus on edges from a functional connectivity matrix. For a given edge, we plot the intra- and inter-variation on the x- and y-axis respectively revealing ICC (intra- and between-variation) via diagonal lines originating from point 0,0 in a rainbow-like manner. \n",
    "\n",
    "## Gradient flow vectors:\n",
    "Built upon the variability field map, we also utilize the variability gradient flow map (GFM) for assessing the relative impact of reliability optimizations focused on one form of variation versus the other, depending on the current balance of the intra- and inter-individual variations. This allows us to identify how and where the difference in variability between two conditions changes in an optimal or sub-optimal direction towards the highest \n",
    "\n",
    "The gradient vector on the field map represents the optimal direction for maximal ICC change on the respective axes of individual variability. For a given ICC change, we normalized its gradient by the contributions of individual variability as compared to the optimal direction\n"
   ]
  },
  {
   "cell_type": "markdown",
   "metadata": {},
   "source": [
    "#### Import functions needed for field maps and gradient flow vectors"
   ]
  },
  {
   "cell_type": "code",
   "execution_count": 1,
   "metadata": {
    "scrolled": false
   },
   "outputs": [],
   "source": [
    "%matplotlib inline\n",
    "import numpy as np"
   ]
  },
  {
   "cell_type": "markdown",
   "metadata": {},
   "source": [
    "## Data used:\n",
    " * Functional\n",
    "     * Every edge from the upper triangle of a 360 x 360 functional connectivity matrix was used as input for the ICC model.\n",
    "         * N<sub>subs</sub> x edges from upper triangle of functional connectivity matrix\n",
    "     * The output arrays generated from the ICC model along with our specific data dictionary keys are listed below: \n",
    "         * ICC ('icc')\n",
    "         * raw intra-individual variation ('raww')\n",
    "         * raw inter-individual variation ('rawb')\n",
    "         * total variation ('vartotal')\n",
    "         * mask of failed edges ('totmask')\n",
    "     * Also included are masked arrays which exclude failed edges. \n",
    "         * 'icc_masked', 'raww_masked', 'rawb_masked', 'vartotal_masked', 'totmask_masked'\n",
    " * Behavioral\n",
    "     * N<sub>subs</sub> x 68 behavioral measures “Cognition”, “Emotion”, “Personality” (check “Motor” and “Sensory”)"
   ]
  },
  {
   "cell_type": "code",
   "execution_count": 2,
   "metadata": {
    "scrolled": true
   },
   "outputs": [
    {
     "name": "stdout",
     "output_type": "stream",
     "text": [
      "Task conditions in data variable: ['REST_nogsr', 'REST_gsr']\n",
      "Dictionary keys within each task condition: ['rawb', 'raww', 'icc', 'vartotal', 'totmask']\n"
     ]
    }
   ],
   "source": [
    "# Load Data:\n",
    "data = np.load('../tutorial/example_data/tutorial_data.npy',allow_pickle=True).item()\n",
    "tasks = [task for task in data.keys()]\n",
    "\n",
    "print('Task conditions in data variable: %s' % tasks)\n",
    "print('Dictionary keys within each task condition: %s' % [data_keys for data_keys in data[tasks[0]].keys()])"
   ]
  },
  {
   "cell_type": "markdown",
   "metadata": {},
   "source": [
    "#### First obtain descriptives on GSR and no GSR ICC:"
   ]
  },
  {
   "cell_type": "code",
   "execution_count": 3,
   "metadata": {},
   "outputs": [
    {
     "name": "stdout",
     "output_type": "stream",
     "text": [
      "REST_nogsr ICC mean: 0.327 +/- 0.166\n",
      "REST_nogsr Inter-individual variation mean: 0.006 +/- 0.004\n",
      "REST_nogsr Intra-individual variation mean: 0.012 +/- 0.004\n",
      " \n",
      "REST_gsr ICC mean: 0.339 +/- 0.175\n",
      "REST_gsr Inter-individual variation mean: 0.009 +/- 0.007\n",
      "REST_gsr Intra-individual variation mean: 0.015 +/- 0.005\n",
      " \n"
     ]
    }
   ],
   "source": [
    "for task in data.keys():\n",
    "    icc = data[task]['icc'][data[task]['totmask']] \n",
    "    inter = data[task]['rawb'][data[task]['totmask']] \n",
    "    intra = data[task]['raww'][data[task]['totmask']] \n",
    "    print('%s ICC mean: %s +/- %s' % (task,np.round(np.mean(icc),3),np.round(np.std(icc),3)))\n",
    "    print('%s Inter-individual variation mean: %s +/- %s' % (task,np.round(np.mean(inter),3),np.round(np.std(inter),3)))\n",
    "    print('%s Intra-individual variation mean: %s +/- %s\\n ' % (task,np.round(np.mean(intra),3),np.round(np.std(intra),3)))\n",
    "\n",
    "    "
   ]
  },
  {
   "cell_type": "markdown",
   "metadata": {},
   "source": [
    "Resting-state scans processed with GSR have greater mean ICC (0.34 +/- 0.18) compared to scans processed without GSR (0.33 +/- 0.17)\n",
    "\n",
    "In the following, we look at how inter- and intra-individual variation contribute to ICC differences."
   ]
  },
  {
   "cell_type": "markdown",
   "metadata": {},
   "source": [
    "## Generating reliability field maps:\n",
    " * For this tutorial we compare functional connectivity from data processed with GSR and without GSR.\n",
    " * After importing libraries we load in results generated from our relibility model, most importantly ICC, raw intra-individual variation, raw inter-individual variation which we will use for both reliability field maps and gradient flow maps.\n",
    " * Light grey lines from the origin, (0,0), mark ICC values starting from 0.1 (shallowest angled bottom line) to 0.9 (steepest most left) - ICC of 0 and 1 are the X and Y axes respectively.\n",
    " * We will first create individual field maps with the function **plot_field_map()**.\n",
    " * Overlaying the individual field maps with just the contour lines allows visual comparison of inter- and intra-individual variation on ICC (**field_map_overlay()**).\n",
    " \n",
    " \n",
    "## 1. Individual fieldmaps for GSR and no GSR\n",
    " * _tasks_, _taskcolors_, _taskcmaps_ should include all conditions included in _data_\n",
    " * _taskcolors_ are individual colors for each task - can be hex or color name as set here\n",
    " * _taskcmaps_ should be color maps corresponding to each _task_ and _taskcolor_"
   ]
  },
  {
   "cell_type": "code",
   "execution_count": 4,
   "metadata": {
    "scrolled": false
   },
   "outputs": [
    {
     "ename": "FileNotFoundError",
     "evalue": "[Errno 2] File b'/anaconda2/envs/py36/lib/python3.6/site-packages/reliability/misc/Yeo7_to_Glasser360_labels/181Yeo7matchlh.csv' does not exist: b'/anaconda2/envs/py36/lib/python3.6/site-packages/reliability/misc/Yeo7_to_Glasser360_labels/181Yeo7matchlh.csv'",
     "output_type": "error",
     "traceback": [
      "\u001b[0;31m---------------------------------------------------------------------------\u001b[0m",
      "\u001b[0;31mFileNotFoundError\u001b[0m                         Traceback (most recent call last)",
      "\u001b[0;32m<ipython-input-4-74947fd83ae9>\u001b[0m in \u001b[0;36m<module>\u001b[0;34m\u001b[0m\n\u001b[0;32m----> 1\u001b[0;31m \u001b[0;32mfrom\u001b[0m \u001b[0mreliability\u001b[0m\u001b[0;34m.\u001b[0m\u001b[0mreliability_field_maps\u001b[0m \u001b[0;32mimport\u001b[0m \u001b[0mplot_field_map\u001b[0m\u001b[0;34m\u001b[0m\u001b[0;34m\u001b[0m\u001b[0m\n\u001b[0m\u001b[1;32m      2\u001b[0m \u001b[0;34m\u001b[0m\u001b[0m\n\u001b[1;32m      3\u001b[0m \u001b[0;31m# Set colormaps/colors for field map contours\u001b[0m\u001b[0;34m\u001b[0m\u001b[0;34m\u001b[0m\u001b[0;34m\u001b[0m\u001b[0m\n\u001b[1;32m      4\u001b[0m tasks = ['REST_nogsr',\n\u001b[1;32m      5\u001b[0m          'REST_gsr']\n",
      "\u001b[0;32m/anaconda2/envs/py36/lib/python3.6/site-packages/reliability/__init__.py\u001b[0m in \u001b[0;36m<module>\u001b[0;34m\u001b[0m\n\u001b[1;32m      3\u001b[0m \u001b[0;32mfrom\u001b[0m \u001b[0;34m.\u001b[0m\u001b[0mgradient_flow_vectors\u001b[0m \u001b[0;32mimport\u001b[0m \u001b[0mcalc_icc_vectors\u001b[0m\u001b[0;34m,\u001b[0m\u001b[0mpah\u001b[0m\u001b[0;34m\u001b[0m\u001b[0;34m\u001b[0m\u001b[0m\n\u001b[1;32m      4\u001b[0m \u001b[0;32mfrom\u001b[0m \u001b[0;34m.\u001b[0m\u001b[0mreliability_field_maps\u001b[0m \u001b[0;32mimport\u001b[0m \u001b[0mplot_field_map\u001b[0m\u001b[0;34m,\u001b[0m\u001b[0mplot_field_map_overlay\u001b[0m\u001b[0;34m\u001b[0m\u001b[0;34m\u001b[0m\u001b[0m\n\u001b[0;32m----> 5\u001b[0;31m \u001b[0;32mfrom\u001b[0m \u001b[0;34m.\u001b[0m\u001b[0mvariability_utils\u001b[0m \u001b[0;32mimport\u001b[0m \u001b[0mgradientFlowCmaps\u001b[0m\u001b[0;34m,\u001b[0m\u001b[0mallparcels\u001b[0m\u001b[0;34m,\u001b[0m\u001b[0mparcel2vert\u001b[0m\u001b[0;34m,\u001b[0m\u001b[0marray2mat\u001b[0m\u001b[0;34m\u001b[0m\u001b[0;34m\u001b[0m\u001b[0m\n\u001b[0m",
      "\u001b[0;32m/anaconda2/envs/py36/lib/python3.6/site-packages/reliability/variability_utils.py\u001b[0m in \u001b[0;36m<module>\u001b[0;34m\u001b[0m\n\u001b[1;32m     11\u001b[0m \u001b[0;34m\u001b[0m\u001b[0m\n\u001b[1;32m     12\u001b[0m \u001b[0;31m# Load Yeo 7 network assignments to Glasser 360 parcellation\u001b[0m\u001b[0;34m\u001b[0m\u001b[0;34m\u001b[0m\u001b[0;34m\u001b[0m\u001b[0m\n\u001b[0;32m---> 13\u001b[0;31m allparcels = np.r_[pd.read_csv(fpath + '/misc/Yeo7_to_Glasser360_labels/181Yeo7matchlh.csv').values[1:,2],\n\u001b[0m\u001b[1;32m     14\u001b[0m                    pd.read_csv(fpath + '/misc/Yeo7_to_Glasser360_labels/181Yeo7matchrh.csv').values[1:,2]]\n\u001b[1;32m     15\u001b[0m \u001b[0;34m\u001b[0m\u001b[0m\n",
      "\u001b[0;32m/anaconda2/envs/py36/lib/python3.6/site-packages/pandas/io/parsers.py\u001b[0m in \u001b[0;36mparser_f\u001b[0;34m(filepath_or_buffer, sep, delimiter, header, names, index_col, usecols, squeeze, prefix, mangle_dupe_cols, dtype, engine, converters, true_values, false_values, skipinitialspace, skiprows, skipfooter, nrows, na_values, keep_default_na, na_filter, verbose, skip_blank_lines, parse_dates, infer_datetime_format, keep_date_col, date_parser, dayfirst, cache_dates, iterator, chunksize, compression, thousands, decimal, lineterminator, quotechar, quoting, doublequote, escapechar, comment, encoding, dialect, error_bad_lines, warn_bad_lines, delim_whitespace, low_memory, memory_map, float_precision)\u001b[0m\n\u001b[1;32m    683\u001b[0m         )\n\u001b[1;32m    684\u001b[0m \u001b[0;34m\u001b[0m\u001b[0m\n\u001b[0;32m--> 685\u001b[0;31m         \u001b[0;32mreturn\u001b[0m \u001b[0m_read\u001b[0m\u001b[0;34m(\u001b[0m\u001b[0mfilepath_or_buffer\u001b[0m\u001b[0;34m,\u001b[0m \u001b[0mkwds\u001b[0m\u001b[0;34m)\u001b[0m\u001b[0;34m\u001b[0m\u001b[0;34m\u001b[0m\u001b[0m\n\u001b[0m\u001b[1;32m    686\u001b[0m \u001b[0;34m\u001b[0m\u001b[0m\n\u001b[1;32m    687\u001b[0m     \u001b[0mparser_f\u001b[0m\u001b[0;34m.\u001b[0m\u001b[0m__name__\u001b[0m \u001b[0;34m=\u001b[0m \u001b[0mname\u001b[0m\u001b[0;34m\u001b[0m\u001b[0;34m\u001b[0m\u001b[0m\n",
      "\u001b[0;32m/anaconda2/envs/py36/lib/python3.6/site-packages/pandas/io/parsers.py\u001b[0m in \u001b[0;36m_read\u001b[0;34m(filepath_or_buffer, kwds)\u001b[0m\n\u001b[1;32m    455\u001b[0m \u001b[0;34m\u001b[0m\u001b[0m\n\u001b[1;32m    456\u001b[0m     \u001b[0;31m# Create the parser.\u001b[0m\u001b[0;34m\u001b[0m\u001b[0;34m\u001b[0m\u001b[0;34m\u001b[0m\u001b[0m\n\u001b[0;32m--> 457\u001b[0;31m     \u001b[0mparser\u001b[0m \u001b[0;34m=\u001b[0m \u001b[0mTextFileReader\u001b[0m\u001b[0;34m(\u001b[0m\u001b[0mfp_or_buf\u001b[0m\u001b[0;34m,\u001b[0m \u001b[0;34m**\u001b[0m\u001b[0mkwds\u001b[0m\u001b[0;34m)\u001b[0m\u001b[0;34m\u001b[0m\u001b[0;34m\u001b[0m\u001b[0m\n\u001b[0m\u001b[1;32m    458\u001b[0m \u001b[0;34m\u001b[0m\u001b[0m\n\u001b[1;32m    459\u001b[0m     \u001b[0;32mif\u001b[0m \u001b[0mchunksize\u001b[0m \u001b[0;32mor\u001b[0m \u001b[0miterator\u001b[0m\u001b[0;34m:\u001b[0m\u001b[0;34m\u001b[0m\u001b[0;34m\u001b[0m\u001b[0m\n",
      "\u001b[0;32m/anaconda2/envs/py36/lib/python3.6/site-packages/pandas/io/parsers.py\u001b[0m in \u001b[0;36m__init__\u001b[0;34m(self, f, engine, **kwds)\u001b[0m\n\u001b[1;32m    893\u001b[0m             \u001b[0mself\u001b[0m\u001b[0;34m.\u001b[0m\u001b[0moptions\u001b[0m\u001b[0;34m[\u001b[0m\u001b[0;34m\"has_index_names\"\u001b[0m\u001b[0;34m]\u001b[0m \u001b[0;34m=\u001b[0m \u001b[0mkwds\u001b[0m\u001b[0;34m[\u001b[0m\u001b[0;34m\"has_index_names\"\u001b[0m\u001b[0;34m]\u001b[0m\u001b[0;34m\u001b[0m\u001b[0;34m\u001b[0m\u001b[0m\n\u001b[1;32m    894\u001b[0m \u001b[0;34m\u001b[0m\u001b[0m\n\u001b[0;32m--> 895\u001b[0;31m         \u001b[0mself\u001b[0m\u001b[0;34m.\u001b[0m\u001b[0m_make_engine\u001b[0m\u001b[0;34m(\u001b[0m\u001b[0mself\u001b[0m\u001b[0;34m.\u001b[0m\u001b[0mengine\u001b[0m\u001b[0;34m)\u001b[0m\u001b[0;34m\u001b[0m\u001b[0;34m\u001b[0m\u001b[0m\n\u001b[0m\u001b[1;32m    896\u001b[0m \u001b[0;34m\u001b[0m\u001b[0m\n\u001b[1;32m    897\u001b[0m     \u001b[0;32mdef\u001b[0m \u001b[0mclose\u001b[0m\u001b[0;34m(\u001b[0m\u001b[0mself\u001b[0m\u001b[0;34m)\u001b[0m\u001b[0;34m:\u001b[0m\u001b[0;34m\u001b[0m\u001b[0;34m\u001b[0m\u001b[0m\n",
      "\u001b[0;32m/anaconda2/envs/py36/lib/python3.6/site-packages/pandas/io/parsers.py\u001b[0m in \u001b[0;36m_make_engine\u001b[0;34m(self, engine)\u001b[0m\n\u001b[1;32m   1133\u001b[0m     \u001b[0;32mdef\u001b[0m \u001b[0m_make_engine\u001b[0m\u001b[0;34m(\u001b[0m\u001b[0mself\u001b[0m\u001b[0;34m,\u001b[0m \u001b[0mengine\u001b[0m\u001b[0;34m=\u001b[0m\u001b[0;34m\"c\"\u001b[0m\u001b[0;34m)\u001b[0m\u001b[0;34m:\u001b[0m\u001b[0;34m\u001b[0m\u001b[0;34m\u001b[0m\u001b[0m\n\u001b[1;32m   1134\u001b[0m         \u001b[0;32mif\u001b[0m \u001b[0mengine\u001b[0m \u001b[0;34m==\u001b[0m \u001b[0;34m\"c\"\u001b[0m\u001b[0;34m:\u001b[0m\u001b[0;34m\u001b[0m\u001b[0;34m\u001b[0m\u001b[0m\n\u001b[0;32m-> 1135\u001b[0;31m             \u001b[0mself\u001b[0m\u001b[0;34m.\u001b[0m\u001b[0m_engine\u001b[0m \u001b[0;34m=\u001b[0m \u001b[0mCParserWrapper\u001b[0m\u001b[0;34m(\u001b[0m\u001b[0mself\u001b[0m\u001b[0;34m.\u001b[0m\u001b[0mf\u001b[0m\u001b[0;34m,\u001b[0m \u001b[0;34m**\u001b[0m\u001b[0mself\u001b[0m\u001b[0;34m.\u001b[0m\u001b[0moptions\u001b[0m\u001b[0;34m)\u001b[0m\u001b[0;34m\u001b[0m\u001b[0;34m\u001b[0m\u001b[0m\n\u001b[0m\u001b[1;32m   1136\u001b[0m         \u001b[0;32melse\u001b[0m\u001b[0;34m:\u001b[0m\u001b[0;34m\u001b[0m\u001b[0;34m\u001b[0m\u001b[0m\n\u001b[1;32m   1137\u001b[0m             \u001b[0;32mif\u001b[0m \u001b[0mengine\u001b[0m \u001b[0;34m==\u001b[0m \u001b[0;34m\"python\"\u001b[0m\u001b[0;34m:\u001b[0m\u001b[0;34m\u001b[0m\u001b[0;34m\u001b[0m\u001b[0m\n",
      "\u001b[0;32m/anaconda2/envs/py36/lib/python3.6/site-packages/pandas/io/parsers.py\u001b[0m in \u001b[0;36m__init__\u001b[0;34m(self, src, **kwds)\u001b[0m\n\u001b[1;32m   1915\u001b[0m         \u001b[0mkwds\u001b[0m\u001b[0;34m[\u001b[0m\u001b[0;34m\"usecols\"\u001b[0m\u001b[0;34m]\u001b[0m \u001b[0;34m=\u001b[0m \u001b[0mself\u001b[0m\u001b[0;34m.\u001b[0m\u001b[0musecols\u001b[0m\u001b[0;34m\u001b[0m\u001b[0;34m\u001b[0m\u001b[0m\n\u001b[1;32m   1916\u001b[0m \u001b[0;34m\u001b[0m\u001b[0m\n\u001b[0;32m-> 1917\u001b[0;31m         \u001b[0mself\u001b[0m\u001b[0;34m.\u001b[0m\u001b[0m_reader\u001b[0m \u001b[0;34m=\u001b[0m \u001b[0mparsers\u001b[0m\u001b[0;34m.\u001b[0m\u001b[0mTextReader\u001b[0m\u001b[0;34m(\u001b[0m\u001b[0msrc\u001b[0m\u001b[0;34m,\u001b[0m \u001b[0;34m**\u001b[0m\u001b[0mkwds\u001b[0m\u001b[0;34m)\u001b[0m\u001b[0;34m\u001b[0m\u001b[0;34m\u001b[0m\u001b[0m\n\u001b[0m\u001b[1;32m   1918\u001b[0m         \u001b[0mself\u001b[0m\u001b[0;34m.\u001b[0m\u001b[0munnamed_cols\u001b[0m \u001b[0;34m=\u001b[0m \u001b[0mself\u001b[0m\u001b[0;34m.\u001b[0m\u001b[0m_reader\u001b[0m\u001b[0;34m.\u001b[0m\u001b[0munnamed_cols\u001b[0m\u001b[0;34m\u001b[0m\u001b[0;34m\u001b[0m\u001b[0m\n\u001b[1;32m   1919\u001b[0m \u001b[0;34m\u001b[0m\u001b[0m\n",
      "\u001b[0;32mpandas/_libs/parsers.pyx\u001b[0m in \u001b[0;36mpandas._libs.parsers.TextReader.__cinit__\u001b[0;34m()\u001b[0m\n",
      "\u001b[0;32mpandas/_libs/parsers.pyx\u001b[0m in \u001b[0;36mpandas._libs.parsers.TextReader._setup_parser_source\u001b[0;34m()\u001b[0m\n",
      "\u001b[0;31mFileNotFoundError\u001b[0m: [Errno 2] File b'/anaconda2/envs/py36/lib/python3.6/site-packages/reliability/misc/Yeo7_to_Glasser360_labels/181Yeo7matchlh.csv' does not exist: b'/anaconda2/envs/py36/lib/python3.6/site-packages/reliability/misc/Yeo7_to_Glasser360_labels/181Yeo7matchlh.csv'"
     ]
    }
   ],
   "source": [
    "from reliability.reliability_field_maps import plot_field_map\n",
    "\n",
    "# Set colormaps/colors for field map contours\n",
    "tasks = ['REST_nogsr',\n",
    "         'REST_gsr']\n",
    "taskcolors = {'REST_gsr':'grey',\n",
    "              'REST_nogsr':'red'}\n",
    "taskcmaps = {'REST_gsr':'Greys',\n",
    "             'REST_nogsr':'Reds'}\n",
    "outpath = False # Not saving any figures for now\n",
    "lines = True # Show ICC lines\n",
    "alpha = 1 \n",
    "thr = 0.0001 # Our threshold for which variability values to include\n",
    "\n",
    "# Plot individual field maps:\n",
    "for num,task in enumerate(['REST_nogsr','REST_gsr']):\n",
    "    x = data[task]['raww'][data[task]['totmask']]\n",
    "    y = data[task]['rawb'][data[task]['totmask']]\n",
    "    xx1,yy1,normalized,fig = plot_field_map(x,y,taskcolors[task],taskcmaps[task],alpha,lines,outpath,thr=0.0001,gridsize=100,\n",
    "                         overlay=False,cbar_option=True,figSize=(12,10),xyLim=95,shade=True,addContourLines=True,plotstyle=['nokde','scatter'],bins=500)\n",
    "\n"
   ]
  },
  {
   "cell_type": "markdown",
   "metadata": {},
   "source": [
    "## 2. Field map overlap for GSR and no GSR"
   ]
  },
  {
   "cell_type": "code",
   "execution_count": null,
   "metadata": {
    "scrolled": false
   },
   "outputs": [],
   "source": [
    "from reliability.reliability_field_maps import plot_field_map_overlay\n",
    "\n",
    "# Not saving any figures for now.\n",
    "outpath = False\n",
    "lines = True\n",
    "alpha = 1\n",
    "\n",
    "# Choosing conditions to compare:\n",
    "taskcombos = [['REST_nogsr',\n",
    "               'REST_gsr']]\n",
    "\n",
    "plot_field_map_overlay(taskcombos,data,taskcolors,taskcmaps,alpha,lines,outpath,\n",
    "                      cbar_option=True,figSize=(13,10),xlim=(0,0.025),ylim=(0,0.025),\n",
    "                     shade=False,thr=0.0001)"
   ]
  },
  {
   "cell_type": "markdown",
   "metadata": {},
   "source": [
    "## Generating gradient flow vector angular histograms:\n",
    " * Gradient flow vectors are useful understand optimality of change in variation with respect to improved reliability. Gradient flow angular histograms show the frequency of edges for each angle.\n",
    " * Gradient flow histograms are created using **gradient_flow_histogram()**.\n",
    "     * 1. intra- and inter-individual variation is used to calculate standardized gradient flow vectors and the count for each angle is plotted.\n",
    "     * 2. Each angle is counted and the total number is plotted according to the gradient flow circular colormap."
   ]
  },
  {
   "cell_type": "code",
   "execution_count": null,
   "metadata": {},
   "outputs": [],
   "source": [
    "from reliability.gradient_flow_vectors import calc_icc_vectors,pah\n",
    "from reliability.variability_utils import gradientFlowCmaps\n",
    "\n",
    "##########################################\n",
    "# Turn calc_icc_vectors input as pd.df\n",
    "# Headers with edge names for 360\n",
    "\n",
    "# Paired masking:\n",
    "# Input data should be masked such that each intra- and inter-individual variation value are paired between the two conditions\n",
    "bothmask = data[tasks[0]]['totmask'] * data[tasks[1]]['totmask']\n",
    "\n",
    "parcdf = {}\n",
    "measures = ['icc','raww','rawb']\n",
    "for task in tasks:\n",
    "    parcdf[task] = {}\n",
    "    for m in measures:\n",
    "        parcdf[task][m] = data[task][m][bothmask]\n",
    "\n",
    "# Calculate vector parameters:\n",
    "df = calc_icc_vectors(parcdf[tasks[0]]['raww'],parcdf[tasks[0]]['rawb'],parcdf[tasks[0]]['icc'],\n",
    "                      parcdf[tasks[1]]['raww'],parcdf[tasks[1]]['rawb'],parcdf[tasks[1]]['icc'],\n",
    "                      tasks[0],tasks[1])\n",
    "\n",
    "# Gradient flow histogram plot options:\n",
    "bin_threshold = 5 # degrees covered per histogram bar\n",
    "outpath = False # No saving for now.\n",
    "title = '%s - %s' % (tasks[1],tasks[0])\n",
    "\n",
    "# Plot gradient flow histogram:\n",
    "pah(df['theta0'],bin_threshold,gradientFlowCmaps['complete'],title,outpath)\n",
    "\n"
   ]
  },
  {
   "cell_type": "code",
   "execution_count": null,
   "metadata": {},
   "outputs": [],
   "source": []
  },
  {
   "cell_type": "code",
   "execution_count": null,
   "metadata": {},
   "outputs": [],
   "source": []
  },
  {
   "cell_type": "code",
   "execution_count": null,
   "metadata": {},
   "outputs": [],
   "source": []
  },
  {
   "cell_type": "code",
   "execution_count": null,
   "metadata": {},
   "outputs": [],
   "source": []
  },
  {
   "cell_type": "code",
   "execution_count": null,
   "metadata": {},
   "outputs": [],
   "source": []
  }
 ],
 "metadata": {
  "kernelspec": {
   "display_name": "Python 3",
   "language": "python",
   "name": "python3"
  },
  "language_info": {
   "codemirror_mode": {
    "name": "ipython",
    "version": 3
   },
   "file_extension": ".py",
   "mimetype": "text/x-python",
   "name": "python",
   "nbconvert_exporter": "python",
   "pygments_lexer": "ipython3",
   "version": "3.6.8"
  }
 },
 "nbformat": 4,
 "nbformat_minor": 2
}
