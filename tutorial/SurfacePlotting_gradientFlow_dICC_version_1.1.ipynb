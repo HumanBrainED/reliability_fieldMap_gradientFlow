{
 "cells": [
  {
   "cell_type": "markdown",
   "metadata": {},
   "source": [
    "## Generating surface plots for ICC differences and parcel-wise gradient flow vectors:\n",
    " * Mean of ICC differences and mean gradient flow vector direction for each parcel connectivity vector (row/column of ICC/gradient flow matrix) are plotted on the cortical surface with **BrainSpace** .\n",
    " * **calc_icc_vectors** first calculates standardized gradient flow vectors using the parcel vector mean of inter- and intra-individual differences to yield mean gradient flow vector direction for each parcel.\n",
    "     * Separate surface plots are generated for positive and negative ICC difference and gradient flow direction for clarity.\n",
    "     * Due to averaging across the parcel connectivity vector, ICC difference and gradient flow direction might not have complete congruency. \n",
    "\n",
    "1. We first set up the data by filling in a 360 x 360 matrix with our array of edges.\n",
    "2. We then take the mean of each row (mean of inter-individual and intra-individual variations and icc for each parcel)\n",
    "3. After calculating the **mean** gradient flow vectors, we use a parcel-to-vertex label file to map gradient flow vectors for each parcel onto a 10k per hemisphere vertex cortical surface\n"
   ]
  },
  {
   "cell_type": "code",
   "execution_count": 1,
   "metadata": {},
   "outputs": [
    {
     "name": "stdout",
     "output_type": "stream",
     "text": [
      "Task conditions in data variable: ['REST_nogsr', 'REST_gsr']\n",
      "Dictionary keys within each task condition: ['rawb', 'raww', 'icc', 'vartotal', 'totmask']\n"
     ]
    }
   ],
   "source": [
    "%matplotlib inline\n",
    "import sys\n",
    "import numpy as np\n",
    "\n",
    "# Load Data:\n",
    "data = np.load('../tutorial/example_data/tutorial_data.npy',allow_pickle=True).item()\n",
    "tasks = [task for task in data.keys()]\n",
    "\n",
    "print('Task conditions in data variable: %s' % tasks)\n",
    "print('Dictionary keys within each task condition: %s' % [data_keys for data_keys in data[tasks[0]].keys()])"
   ]
  },
  {
   "cell_type": "code",
   "execution_count": 2,
   "metadata": {},
   "outputs": [
    {
     "ename": "ImportError",
     "evalue": "cannot import name 'gradientFlow_cmap'",
     "output_type": "error",
     "traceback": [
      "\u001b[0;31m---------------------------------------------------------------------------\u001b[0m",
      "\u001b[0;31mImportError\u001b[0m                               Traceback (most recent call last)",
      "\u001b[0;32m<ipython-input-2-d0d6c1300050>\u001b[0m in \u001b[0;36m<module>\u001b[0;34m\u001b[0m\n\u001b[1;32m      4\u001b[0m \u001b[0;34m\u001b[0m\u001b[0m\n\u001b[1;32m      5\u001b[0m \u001b[0;32mfrom\u001b[0m \u001b[0mreliability\u001b[0m\u001b[0;34m.\u001b[0m\u001b[0mgradient_flow_vectors\u001b[0m \u001b[0;32mimport\u001b[0m \u001b[0mcalc_icc_vectors\u001b[0m\u001b[0;34m,\u001b[0m\u001b[0mpah\u001b[0m\u001b[0;34m\u001b[0m\u001b[0;34m\u001b[0m\u001b[0m\n\u001b[0;32m----> 6\u001b[0;31m \u001b[0;32mfrom\u001b[0m \u001b[0mreliability\u001b[0m\u001b[0;34m.\u001b[0m\u001b[0mvariability_utils\u001b[0m \u001b[0;32mimport\u001b[0m \u001b[0marray2mat\u001b[0m\u001b[0;34m,\u001b[0m\u001b[0mparcel2vert\u001b[0m\u001b[0;34m,\u001b[0m\u001b[0mglasserlabel\u001b[0m\u001b[0;34m,\u001b[0m\u001b[0mgradientFlow_cmap\u001b[0m\u001b[0;34m,\u001b[0m\u001b[0mICC_cmap\u001b[0m \u001b[0;31m# Convert array of parcellated data to array of surface vertex data\u001b[0m\u001b[0;34m\u001b[0m\u001b[0;34m\u001b[0m\u001b[0m\n\u001b[0m\u001b[1;32m      7\u001b[0m \u001b[0;34m\u001b[0m\u001b[0m\n\u001b[1;32m      8\u001b[0m \u001b[0mnumParcels\u001b[0m \u001b[0;34m=\u001b[0m \u001b[0;36m360\u001b[0m \u001b[0;31m# Number of Glasser 2016 parcels\u001b[0m\u001b[0;34m\u001b[0m\u001b[0;34m\u001b[0m\u001b[0m\n",
      "\u001b[0;31mImportError\u001b[0m: cannot import name 'gradientFlow_cmap'"
     ]
    }
   ],
   "source": [
    "# BrainSpace functions needed:\n",
    "from brainspace.plotting import plot_hemispheres\n",
    "from brainspace.mesh.mesh_io import read_surface\n",
    "\n",
    "from reliability.gradient_flow_vectors import calc_icc_vectors,pah\n",
    "from reliability.variability_utils import array2mat,parcel2vert,glasserlabel,gradientFlow_cmap,ICC_cmap # Convert array of parcellated data to array of surface vertex data\n",
    "\n",
    "numParcels = 360 # Number of Glasser 2016 parcels\n",
    "\n",
    "# Fill matrix and take row mean:\n",
    "parcdf = {}\n",
    "measures = ['icc','raww','rawb']\n",
    "for task in tasks:\n",
    "    parcdf[task] = {}\n",
    "    for m in measures:\n",
    "        parcdf[task][m] = np.nanmean(array2mat(data[task][m],numParcels),0)\n",
    "\n",
    "# Calculate parcel mean gradient flow vectors:\n",
    "df = calc_icc_vectors(parcdf[tasks[0]]['raww'],parcdf[tasks[0]]['rawb'],parcdf[tasks[0]]['icc'],\n",
    "                      parcdf[tasks[1]]['raww'],parcdf[tasks[1]]['rawb'],parcdf[tasks[1]]['icc'],\n",
    "                      tasks[0],tasks[1])\n",
    "\n",
    "# Generate 20k vertex array from parcellation:\n",
    "angVerts = parcel2vert(glasserlabel,df['theta0'])\n",
    "\n",
    "# Create mask and remove medial wall/subcortical regions:\n",
    "parcellation_mask = np.where(glasserlabel[0,:] == 0)[0]\n",
    "angVerts[0,parcellation_mask] = np.nan\n",
    "\n",
    "# Load Conte 10k surface\n",
    "lsurf = read_surface('../reliability/misc/surfaces/Conte69.L.very_inflated.10k_fs_LR.surf.gii')\n",
    "rsurf = read_surface('../reliability/misc/surfaces/Conte69.R.very_inflated.10k_fs_LR.surf.gii')\n"
   ]
  },
  {
   "cell_type": "code",
   "execution_count": null,
   "metadata": {},
   "outputs": [],
   "source": [
    "# Show mean ICC with ICC_cbar\n",
    "mean_ICC_vert = [parcel2vert(glasserlabel,(df['icc0'])),parcel2vert(glasserlabel,df['icc1'])]\n",
    "plot_hemispheres(lsurf, rsurf, array_name=vertArrays, size=(2400, 1200), \n",
    "                 cmap=[ICC_cmap],\n",
    "                color_bar=False,interactive=False,embed_nb=True,nan_color=(1,1,1,1),color_range=(0,360),\n",
    "                 label_text=['No GSR Mean ICC','GSR Mean ICC'],\n",
    "                mapper__interpolateScalarsBeforeMapping=False)\n"
   ]
  },
  {
   "cell_type": "code",
   "execution_count": null,
   "metadata": {},
   "outputs": [],
   "source": [
    "GF_vert = [angVerts[0,:]]*3\n",
    "plot_hemispheres(lsurf, rsurf, array_name=GF_vert, size=(2400, 1200), \n",
    "                 cmap=[gradientFlowCmaps['warm'],gradientFlowCmaps['cold'],gradientFlowCmaps['complete']],\n",
    "                color_bar=False,interactive=False,embed_nb=True,nan_color=(1,1,1,1),color_range=(0,360),\n",
    "                 label_text=['Positive\\nICC Gradient','Negative\\nICC Gradient','All ICC\\nGradients'],\n",
    "                mapper__interpolateScalarsBeforeMapping=False)\n"
   ]
  },
  {
   "cell_type": "markdown",
   "metadata": {},
   "source": [
    "While data processed without GSR has overall greater reliability compared to data processed with GSR, we can see topological differences in different brain regions as shown by surface plots showing ICC differences as well as gradient vectors. With this information different preprocessing steps can be applied when higher reliability is desired for the target region being studied. "
   ]
  },
  {
   "cell_type": "code",
   "execution_count": null,
   "metadata": {},
   "outputs": [],
   "source": [
    "dICC_vert = parcel2vert(glasserlabel,df['icc1']-df['icc0'])[0,:]\n",
    "negMask = dICCvert<0\n",
    "posMask = dICCvert>0\n",
    "vertArraysdICC = [dICC_vert*posMask,dICC_vert*negMask,dICC_vert]\n",
    "plot_hemispheres(lsurf, rsurf, array_name=vertArraysdICC, size=(2400, 1200), \n",
    "                 cmap=['bwr','bwr','bwr'],\n",
    "                color_bar=True,interactive=False,embed_nb=True,nan_color=(1,1,1,1),\n",
    "                 color_range=(-0.25,0.25),label_text=[u'Positive\\nΔICC',u'Negative\\nΔICC','ΔICC'],\n",
    "                 transparent_bg=True,mapper__interpolateScalarsBeforeMapping=False)"
   ]
  },
  {
   "cell_type": "code",
   "execution_count": null,
   "metadata": {},
   "outputs": [],
   "source": []
  },
  {
   "cell_type": "code",
   "execution_count": null,
   "metadata": {},
   "outputs": [],
   "source": []
  }
 ],
 "metadata": {
  "kernelspec": {
   "display_name": "Python pkgtest",
   "language": "python",
   "name": "pkgtest"
  },
  "language_info": {
   "codemirror_mode": {
    "name": "ipython",
    "version": 3
   },
   "file_extension": ".py",
   "mimetype": "text/x-python",
   "name": "python",
   "nbconvert_exporter": "python",
   "pygments_lexer": "ipython3",
   "version": "3.6.13"
  }
 },
 "nbformat": 4,
 "nbformat_minor": 2
}
